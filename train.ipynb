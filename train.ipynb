{
 "cells": [
  {
   "cell_type": "markdown",
   "metadata": {},
   "source": [
    "# Paw Patrol classification training"
   ]
  },
  {
   "cell_type": "code",
   "execution_count": null,
   "metadata": {},
   "outputs": [],
   "source": [
    "from google_images_download import google_images_download\n",
    "\n",
    "data_folder = \"train\"\n",
    "if (not os.path.exists(data_folder)):\n",
    "    os.mkdir(data_folder)\n",
    "\n",
    "response = google_images_download.googleimagesdownload()\n",
    "\n",
    "def download_paw_patrol(folder, query):\n",
    "    if (not os.path.exists(data_folder + '/' + folder)):\n",
    "\n",
    "        arguments = {\"keywords\": query,\n",
    "                    \"output_directory\": data_folder,\n",
    "                    \"image_directory\": folder,\n",
    "                    \"limit\": 50,\n",
    "                    \"print_urls\": True}\n",
    "\n",
    "        try:\n",
    "            paths = response.download(arguments)\n",
    "            print(paths)\n",
    "        except Exception as e:\n",
    "            print('Exception ' + str(e))\n",
    "\n",
    "chase_query = 'paw patrol chase -marshall -rubble -rocky -skye -zuma -everest'\n",
    "marshall_query = 'paw patrol -chase marshall -rubble -rocky -skye -zuma -everest'\n",
    "rubble_query = 'paw patrol -chase -marshall rubble -rocky -skye -zuma -everest'\n",
    "rocky_query = 'paw patrol -chase -marshall -rubble rocky -skye -zuma -everest'\n",
    "zuma_query = 'paw patrol -chase -marshall -rubble -rocky -skye zuma -everest'\n",
    "skye_query = 'paw patrol -chase -marshall -rubble -rocky skye -zuma -everest'\n",
    "\n",
    "download_paw_patrol(\"chase\", chase_query)\n",
    "download_paw_patrol(\"marshall\", marshall_query)\n",
    "download_paw_patrol(\"rubble\", rubble_query)\n",
    "download_paw_patrol(\"rocky\", rocky_query)\n",
    "download_paw_patrol(\"zuma\", zuma_query)\n",
    "download_paw_patrol(\"skye\", skye_query)"
   ]
  },
  {
   "cell_type": "code",
   "execution_count": null,
   "metadata": {},
   "outputs": [],
   "source": [
    "from fastai.vision import *\n",
    "from fastai.metrics import error_rate\n",
    "\n",
    "# Load data\n",
    "np.random.seed(42)\n",
    "data = ImageDataBunch.from_folder(\"train\", valid_pct=0.2, ds_tfms=get_transforms(), size=224, bs=32).normalize(imagenet_stats)\n",
    "data.show_batch(rows=3, figsize=(7,6))\n",
    "\n",
    "# Use ResNet34 as the architecture\n",
    "learn = cnn_learner(data, models.resnet34, metrics=error_rate)\n",
    "learn.load(\"final\")\n",
    "learn.export()"
   ]
  },
  {
   "cell_type": "code",
   "execution_count": null,
   "metadata": {},
   "outputs": [],
   "source": [
    "# Train stage 1\n",
    "learn.fit_one_cycle(4)\n",
    "learn.fit_one_cycle(4)\n",
    "learn.save('stage-1.1')"
   ]
  },
  {
   "cell_type": "code",
   "execution_count": null,
   "metadata": {},
   "outputs": [],
   "source": [
    "# Show error\n",
    "interp = ClassificationInterpretation.from_learner(learn)\n",
    "interp.plot_confusion_matrix()\n",
    "interp.plot_top_losses(9, figsize=(15,11))"
   ]
  },
  {
   "cell_type": "code",
   "execution_count": null,
   "metadata": {},
   "outputs": [],
   "source": [
    "# Run learning rate estimator\n",
    "learn.lr_find()\n",
    "learn.recorder.plot()"
   ]
  },
  {
   "cell_type": "code",
   "execution_count": null,
   "metadata": {},
   "outputs": [],
   "source": [
    "# Train second pass\n",
    "learn.unfreeze()\n",
    "learn.fit_one_cycle(2, max_lr=slice(1e-6,1e-4))\n",
    "learn.save('stage-2')"
   ]
  },
  {
   "cell_type": "code",
   "execution_count": null,
   "metadata": {},
   "outputs": [],
   "source": [
    "# Show error\n",
    "interp = ClassificationInterpretation.from_learner(learn)\n",
    "interp.plot_confusion_matrix()\n",
    "interp.plot_top_losses(9, figsize=(15,11))"
   ]
  },
  {
   "cell_type": "code",
   "execution_count": null,
   "metadata": {},
   "outputs": [],
   "source": []
  }
 ],
 "metadata": {
  "file_extension": ".py",
  "kernelspec": {
   "display_name": "Python 3",
   "language": "python",
   "name": "python3"
  },
  "language_info": {
   "codemirror_mode": {
    "name": "ipython",
    "version": 3
   },
   "file_extension": ".py",
   "mimetype": "text/x-python",
   "name": "python",
   "nbconvert_exporter": "python",
   "pygments_lexer": "ipython3",
   "version": "3.7.4"
  },
  "mimetype": "text/x-python",
  "name": "python",
  "npconvert_exporter": "python",
  "pygments_lexer": "ipython3",
  "version": 3
 },
 "nbformat": 4,
 "nbformat_minor": 2
}
